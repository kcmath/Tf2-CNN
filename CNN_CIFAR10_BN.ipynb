{
  "nbformat": 4,
  "nbformat_minor": 0,
  "metadata": {
    "colab": {
      "name": "CNN-CIFAR10-BN.ipynb",
      "provenance": [],
      "collapsed_sections": [],
      "authorship_tag": "ABX9TyMkLFIV27cmRaF/aCKFiA+h",
      "include_colab_link": true
    },
    "kernelspec": {
      "name": "python3",
      "display_name": "Python 3"
    },
    "accelerator": "GPU"
  },
  "cells": [
    {
      "cell_type": "markdown",
      "metadata": {
        "id": "view-in-github",
        "colab_type": "text"
      },
      "source": [
        "<a href=\"https://colab.research.google.com/github/kcmath/Tf2-CNN/blob/master/CNN_CIFAR10_BN.ipynb\" target=\"_parent\"><img src=\"https://colab.research.google.com/assets/colab-badge.svg\" alt=\"Open In Colab\"/></a>"
      ]
    },
    {
      "cell_type": "code",
      "metadata": {
        "id": "E1TA-5UUMp2X",
        "colab_type": "code",
        "outputId": "e950cf09-96ed-4046-d8c7-8ae67f8dc2be",
        "colab": {
          "base_uri": "https://localhost:8080/",
          "height": 1000
        }
      },
      "source": [
        "# Install TensorFlow\n",
        "!pip install tensorflow-gpu\n",
        "\n",
        "try:\n",
        "  %tensorflow_version 2.x  # Colab only.\n",
        "except Exception:\n",
        "  pass\n",
        "\n",
        "import tensorflow as tf\n",
        "print(tf.__version__)\n",
        "print(tf.test.gpu_device_name())\n",
        "print(\"Num GPUs Available: \", len(tf.config.experimental.list_physical_devices('GPU')))"
      ],
      "execution_count": 1,
      "outputs": [
        {
          "output_type": "stream",
          "text": [
            "Collecting tensorflow-gpu\n",
            "\u001b[?25l  Downloading https://files.pythonhosted.org/packages/0a/93/c7bca39b23aae45cd2e85ad3871c81eccc63b9c5276e926511e2e5b0879d/tensorflow_gpu-2.1.0-cp36-cp36m-manylinux2010_x86_64.whl (421.8MB)\n",
            "\u001b[K     |████████████████████████████████| 421.8MB 41kB/s \n",
            "\u001b[?25hRequirement already satisfied: opt-einsum>=2.3.2 in /usr/local/lib/python3.6/dist-packages (from tensorflow-gpu) (3.1.0)\n",
            "Requirement already satisfied: keras-preprocessing>=1.1.0 in /usr/local/lib/python3.6/dist-packages (from tensorflow-gpu) (1.1.0)\n",
            "Requirement already satisfied: termcolor>=1.1.0 in /usr/local/lib/python3.6/dist-packages (from tensorflow-gpu) (1.1.0)\n",
            "Requirement already satisfied: six>=1.12.0 in /usr/local/lib/python3.6/dist-packages (from tensorflow-gpu) (1.12.0)\n",
            "Requirement already satisfied: grpcio>=1.8.6 in /usr/local/lib/python3.6/dist-packages (from tensorflow-gpu) (1.15.0)\n",
            "Requirement already satisfied: absl-py>=0.7.0 in /usr/local/lib/python3.6/dist-packages (from tensorflow-gpu) (0.9.0)\n",
            "Requirement already satisfied: keras-applications>=1.0.8 in /usr/local/lib/python3.6/dist-packages (from tensorflow-gpu) (1.0.8)\n",
            "Requirement already satisfied: wheel>=0.26; python_version >= \"3\" in /usr/local/lib/python3.6/dist-packages (from tensorflow-gpu) (0.33.6)\n",
            "Collecting tensorflow-estimator<2.2.0,>=2.1.0rc0\n",
            "\u001b[?25l  Downloading https://files.pythonhosted.org/packages/18/90/b77c328a1304437ab1310b463e533fa7689f4bfc41549593056d812fab8e/tensorflow_estimator-2.1.0-py2.py3-none-any.whl (448kB)\n",
            "\u001b[K     |████████████████████████████████| 450kB 46.7MB/s \n",
            "\u001b[?25hRequirement already satisfied: protobuf>=3.8.0 in /usr/local/lib/python3.6/dist-packages (from tensorflow-gpu) (3.10.0)\n",
            "Collecting tensorboard<2.2.0,>=2.1.0\n",
            "\u001b[?25l  Downloading https://files.pythonhosted.org/packages/40/23/53ffe290341cd0855d595b0a2e7485932f473798af173bbe3a584b99bb06/tensorboard-2.1.0-py3-none-any.whl (3.8MB)\n",
            "\u001b[K     |████████████████████████████████| 3.8MB 60.9MB/s \n",
            "\u001b[?25hRequirement already satisfied: gast==0.2.2 in /usr/local/lib/python3.6/dist-packages (from tensorflow-gpu) (0.2.2)\n",
            "Requirement already satisfied: scipy==1.4.1; python_version >= \"3\" in /usr/local/lib/python3.6/dist-packages (from tensorflow-gpu) (1.4.1)\n",
            "Requirement already satisfied: astor>=0.6.0 in /usr/local/lib/python3.6/dist-packages (from tensorflow-gpu) (0.8.1)\n",
            "Requirement already satisfied: wrapt>=1.11.1 in /usr/local/lib/python3.6/dist-packages (from tensorflow-gpu) (1.11.2)\n",
            "Requirement already satisfied: google-pasta>=0.1.6 in /usr/local/lib/python3.6/dist-packages (from tensorflow-gpu) (0.1.8)\n",
            "Requirement already satisfied: numpy<2.0,>=1.16.0 in /usr/local/lib/python3.6/dist-packages (from tensorflow-gpu) (1.17.5)\n",
            "Requirement already satisfied: h5py in /usr/local/lib/python3.6/dist-packages (from keras-applications>=1.0.8->tensorflow-gpu) (2.8.0)\n",
            "Requirement already satisfied: setuptools in /usr/local/lib/python3.6/dist-packages (from protobuf>=3.8.0->tensorflow-gpu) (42.0.2)\n",
            "Requirement already satisfied: werkzeug>=0.11.15 in /usr/local/lib/python3.6/dist-packages (from tensorboard<2.2.0,>=2.1.0->tensorflow-gpu) (0.16.0)\n",
            "Requirement already satisfied: requests<3,>=2.21.0 in /usr/local/lib/python3.6/dist-packages (from tensorboard<2.2.0,>=2.1.0->tensorflow-gpu) (2.21.0)\n",
            "Requirement already satisfied: google-auth-oauthlib<0.5,>=0.4.1 in /usr/local/lib/python3.6/dist-packages (from tensorboard<2.2.0,>=2.1.0->tensorflow-gpu) (0.4.1)\n",
            "Collecting google-auth<2,>=1.6.3\n",
            "\u001b[?25l  Downloading https://files.pythonhosted.org/packages/8d/5f/a1a02695b96d0e09c38abf7d1576b137979cea3d060d60891622cf61276d/google_auth-1.10.1-py2.py3-none-any.whl (76kB)\n",
            "\u001b[K     |████████████████████████████████| 81kB 14.6MB/s \n",
            "\u001b[?25hRequirement already satisfied: markdown>=2.6.8 in /usr/local/lib/python3.6/dist-packages (from tensorboard<2.2.0,>=2.1.0->tensorflow-gpu) (3.1.1)\n",
            "Requirement already satisfied: certifi>=2017.4.17 in /usr/local/lib/python3.6/dist-packages (from requests<3,>=2.21.0->tensorboard<2.2.0,>=2.1.0->tensorflow-gpu) (2019.11.28)\n",
            "Requirement already satisfied: urllib3<1.25,>=1.21.1 in /usr/local/lib/python3.6/dist-packages (from requests<3,>=2.21.0->tensorboard<2.2.0,>=2.1.0->tensorflow-gpu) (1.24.3)\n",
            "Requirement already satisfied: chardet<3.1.0,>=3.0.2 in /usr/local/lib/python3.6/dist-packages (from requests<3,>=2.21.0->tensorboard<2.2.0,>=2.1.0->tensorflow-gpu) (3.0.4)\n",
            "Requirement already satisfied: idna<2.9,>=2.5 in /usr/local/lib/python3.6/dist-packages (from requests<3,>=2.21.0->tensorboard<2.2.0,>=2.1.0->tensorflow-gpu) (2.8)\n",
            "Requirement already satisfied: requests-oauthlib>=0.7.0 in /usr/local/lib/python3.6/dist-packages (from google-auth-oauthlib<0.5,>=0.4.1->tensorboard<2.2.0,>=2.1.0->tensorflow-gpu) (1.3.0)\n",
            "Requirement already satisfied: rsa<4.1,>=3.1.4 in /usr/local/lib/python3.6/dist-packages (from google-auth<2,>=1.6.3->tensorboard<2.2.0,>=2.1.0->tensorflow-gpu) (4.0)\n",
            "Requirement already satisfied: pyasn1-modules>=0.2.1 in /usr/local/lib/python3.6/dist-packages (from google-auth<2,>=1.6.3->tensorboard<2.2.0,>=2.1.0->tensorflow-gpu) (0.2.7)\n",
            "Requirement already satisfied: cachetools<5.0,>=2.0.0 in /usr/local/lib/python3.6/dist-packages (from google-auth<2,>=1.6.3->tensorboard<2.2.0,>=2.1.0->tensorflow-gpu) (4.0.0)\n",
            "Requirement already satisfied: oauthlib>=3.0.0 in /usr/local/lib/python3.6/dist-packages (from requests-oauthlib>=0.7.0->google-auth-oauthlib<0.5,>=0.4.1->tensorboard<2.2.0,>=2.1.0->tensorflow-gpu) (3.1.0)\n",
            "Requirement already satisfied: pyasn1>=0.1.3 in /usr/local/lib/python3.6/dist-packages (from rsa<4.1,>=3.1.4->google-auth<2,>=1.6.3->tensorboard<2.2.0,>=2.1.0->tensorflow-gpu) (0.4.8)\n",
            "\u001b[31mERROR: tensorflow 1.15.0 has requirement tensorboard<1.16.0,>=1.15.0, but you'll have tensorboard 2.1.0 which is incompatible.\u001b[0m\n",
            "\u001b[31mERROR: tensorflow 1.15.0 has requirement tensorflow-estimator==1.15.1, but you'll have tensorflow-estimator 2.1.0 which is incompatible.\u001b[0m\n",
            "\u001b[31mERROR: tensorboard 2.1.0 has requirement grpcio>=1.24.3, but you'll have grpcio 1.15.0 which is incompatible.\u001b[0m\n",
            "\u001b[31mERROR: google-colab 1.0.0 has requirement google-auth~=1.4.0, but you'll have google-auth 1.10.1 which is incompatible.\u001b[0m\n",
            "Installing collected packages: tensorflow-estimator, google-auth, tensorboard, tensorflow-gpu\n",
            "  Found existing installation: tensorflow-estimator 1.15.1\n",
            "    Uninstalling tensorflow-estimator-1.15.1:\n",
            "      Successfully uninstalled tensorflow-estimator-1.15.1\n",
            "  Found existing installation: google-auth 1.4.2\n",
            "    Uninstalling google-auth-1.4.2:\n",
            "      Successfully uninstalled google-auth-1.4.2\n",
            "  Found existing installation: tensorboard 1.15.0\n",
            "    Uninstalling tensorboard-1.15.0:\n",
            "      Successfully uninstalled tensorboard-1.15.0\n",
            "Successfully installed google-auth-1.10.1 tensorboard-2.1.0 tensorflow-estimator-2.1.0 tensorflow-gpu-2.1.0\n"
          ],
          "name": "stdout"
        },
        {
          "output_type": "display_data",
          "data": {
            "application/vnd.colab-display-data+json": {
              "pip_warning": {
                "packages": [
                  "google"
                ]
              }
            }
          },
          "metadata": {
            "tags": []
          }
        },
        {
          "output_type": "stream",
          "text": [
            "`%tensorflow_version` only switches the major version: `1.x` or `2.x`.\n",
            "You set: `2.x  # Colab only.`. This will be interpreted as: `2.x`.\n",
            "\n",
            "\n",
            "TensorFlow 2.x selected.\n",
            "2.1.0-rc1\n",
            "/device:GPU:0\n",
            "Num GPUs Available:  1\n"
          ],
          "name": "stdout"
        }
      ]
    },
    {
      "cell_type": "code",
      "metadata": {
        "id": "9B1YAAtV1xWC",
        "colab_type": "code",
        "colab": {}
      },
      "source": [
        "#imports\n",
        "\n",
        "import numpy as np\n",
        "import matplotlib.pyplot as plt\n",
        "from tensorflow.keras.layers import Input, Conv2D, Dense, Flatten, Dropout, GlobalMaxPooling2D, MaxPooling2D, BatchNormalization\n",
        "from tensorflow.keras.models import Model"
      ],
      "execution_count": 0,
      "outputs": []
    },
    {
      "cell_type": "code",
      "metadata": {
        "id": "LlmgMdpFpVDy",
        "colab_type": "code",
        "outputId": "415cccb7-0375-4852-a7b7-68a7a8fd8e80",
        "colab": {
          "base_uri": "https://localhost:8080/",
          "height": 85
        }
      },
      "source": [
        "# Load data\n",
        "cifar10 = tf.keras.datasets.cifar10\n",
        "\n",
        "(x_train, y_train), (x_test, y_test) = cifar10.load_data()\n",
        "x_train, x_test = x_train / 255.0, x_test / 255.0\n",
        "y_train, y_test = y_train.flatten(), y_test.flatten()\n",
        "print(\"x_train.shape:\", x_train.shape)\n",
        "print(\"y_train.shape\", y_train.shape)"
      ],
      "execution_count": 3,
      "outputs": [
        {
          "output_type": "stream",
          "text": [
            "Downloading data from https://www.cs.toronto.edu/~kriz/cifar-10-python.tar.gz\n",
            "170500096/170498071 [==============================] - 2s 0us/step\n",
            "x_train.shape: (50000, 32, 32, 3)\n",
            "y_train.shape (50000,)\n"
          ],
          "name": "stdout"
        }
      ]
    },
    {
      "cell_type": "code",
      "metadata": {
        "id": "3P1AwuxppudV",
        "colab_type": "code",
        "outputId": "97f1e69b-a479-4322-c046-0961c2a33993",
        "colab": {
          "base_uri": "https://localhost:8080/",
          "height": 34
        }
      },
      "source": [
        "# number of classes\n",
        "K = len(set(y_train))\n",
        "print(\"number of classes:\", K)"
      ],
      "execution_count": 4,
      "outputs": [
        {
          "output_type": "stream",
          "text": [
            "number of classes: 10\n"
          ],
          "name": "stdout"
        }
      ]
    },
    {
      "cell_type": "code",
      "metadata": {
        "id": "58VJGwdBpeq4",
        "colab_type": "code",
        "outputId": "d1bfd1b6-3fbf-4075-85ce-6331904699ba",
        "colab": {
          "base_uri": "https://localhost:8080/",
          "height": 867
        }
      },
      "source": [
        "# Build the model using the functional API\n",
        "i = Input(shape=x_train[0].shape)\n",
        "# x = Conv2D(32, (3, 3), strides=2, activation='relu')(i)\n",
        "# x = Conv2D(64, (3, 3), strides=2, activation='relu')(x)\n",
        "# x = Conv2D(128, (3, 3), strides=2, activation='relu')(x)\n",
        "\n",
        "x = Conv2D(32, (3, 3), activation='relu', padding='same')(i)\n",
        "x = BatchNormalization()(x)\n",
        "x = Conv2D(32, (3, 3), activation='relu', padding='same')(x)\n",
        "x = BatchNormalization()(x)\n",
        "x = MaxPooling2D((2, 2))(x)\n",
        "# x = Dropout(0.2)(x)\n",
        "x = Conv2D(64, (3, 3), activation='relu', padding='same')(x)\n",
        "x = BatchNormalization()(x)\n",
        "x = Conv2D(64, (3, 3), activation='relu', padding='same')(x)\n",
        "x = BatchNormalization()(x)\n",
        "x = MaxPooling2D((2, 2))(x)\n",
        "# x = Dropout(0.2)(x)\n",
        "x = Conv2D(128, (3, 3), activation='relu', padding='same')(x)\n",
        "x = BatchNormalization()(x)\n",
        "x = Conv2D(128, (3, 3), activation='relu', padding='same')(x)\n",
        "x = BatchNormalization()(x)\n",
        "x = MaxPooling2D((2, 2))(x)\n",
        "# x = Dropout(0.2)(x)\n",
        "\n",
        "# x = GlobalMaxPooling2D()(x)\n",
        "x = Flatten()(x)\n",
        "x = Dropout(0.2)(x)\n",
        "x = Dense(1024, activation='relu')(x)\n",
        "x = Dropout(0.2)(x)\n",
        "x = Dense(K, activation='softmax')(x)\n",
        "\n",
        "model = Model(i, x)\n",
        "model.summary()"
      ],
      "execution_count": 5,
      "outputs": [
        {
          "output_type": "stream",
          "text": [
            "Model: \"model\"\n",
            "_________________________________________________________________\n",
            "Layer (type)                 Output Shape              Param #   \n",
            "=================================================================\n",
            "input_1 (InputLayer)         [(None, 32, 32, 3)]       0         \n",
            "_________________________________________________________________\n",
            "conv2d (Conv2D)              (None, 32, 32, 32)        896       \n",
            "_________________________________________________________________\n",
            "batch_normalization (BatchNo (None, 32, 32, 32)        128       \n",
            "_________________________________________________________________\n",
            "conv2d_1 (Conv2D)            (None, 32, 32, 32)        9248      \n",
            "_________________________________________________________________\n",
            "batch_normalization_1 (Batch (None, 32, 32, 32)        128       \n",
            "_________________________________________________________________\n",
            "max_pooling2d (MaxPooling2D) (None, 16, 16, 32)        0         \n",
            "_________________________________________________________________\n",
            "conv2d_2 (Conv2D)            (None, 16, 16, 64)        18496     \n",
            "_________________________________________________________________\n",
            "batch_normalization_2 (Batch (None, 16, 16, 64)        256       \n",
            "_________________________________________________________________\n",
            "conv2d_3 (Conv2D)            (None, 16, 16, 64)        36928     \n",
            "_________________________________________________________________\n",
            "batch_normalization_3 (Batch (None, 16, 16, 64)        256       \n",
            "_________________________________________________________________\n",
            "max_pooling2d_1 (MaxPooling2 (None, 8, 8, 64)          0         \n",
            "_________________________________________________________________\n",
            "conv2d_4 (Conv2D)            (None, 8, 8, 128)         73856     \n",
            "_________________________________________________________________\n",
            "batch_normalization_4 (Batch (None, 8, 8, 128)         512       \n",
            "_________________________________________________________________\n",
            "conv2d_5 (Conv2D)            (None, 8, 8, 128)         147584    \n",
            "_________________________________________________________________\n",
            "batch_normalization_5 (Batch (None, 8, 8, 128)         512       \n",
            "_________________________________________________________________\n",
            "max_pooling2d_2 (MaxPooling2 (None, 4, 4, 128)         0         \n",
            "_________________________________________________________________\n",
            "flatten (Flatten)            (None, 2048)              0         \n",
            "_________________________________________________________________\n",
            "dropout (Dropout)            (None, 2048)              0         \n",
            "_________________________________________________________________\n",
            "dense (Dense)                (None, 1024)              2098176   \n",
            "_________________________________________________________________\n",
            "dropout_1 (Dropout)          (None, 1024)              0         \n",
            "_________________________________________________________________\n",
            "dense_1 (Dense)              (None, 10)                10250     \n",
            "=================================================================\n",
            "Total params: 2,397,226\n",
            "Trainable params: 2,396,330\n",
            "Non-trainable params: 896\n",
            "_________________________________________________________________\n"
          ],
          "name": "stdout"
        }
      ]
    },
    {
      "cell_type": "code",
      "metadata": {
        "id": "KjUibHn0pibR",
        "colab_type": "code",
        "outputId": "ca194534-9910-484a-d906-c8ece1157ee0",
        "colab": {
          "base_uri": "https://localhost:8080/",
          "height": 544
        }
      },
      "source": [
        "# Compile\n",
        "model.compile(optimizer='adam',\n",
        "              loss='sparse_categorical_crossentropy',\n",
        "              metrics=['accuracy'])\n",
        "history = model.fit(x_train, y_train, validation_data=(x_test, y_test), epochs=15)"
      ],
      "execution_count": 6,
      "outputs": [
        {
          "output_type": "stream",
          "text": [
            "Train on 50000 samples, validate on 10000 samples\n",
            "Epoch 1/15\n",
            "50000/50000 [==============================] - 20s 396us/sample - loss: 1.2758 - accuracy: 0.5601 - val_loss: 0.9002 - val_accuracy: 0.6848\n",
            "Epoch 2/15\n",
            "50000/50000 [==============================] - 11s 226us/sample - loss: 0.8307 - accuracy: 0.7123 - val_loss: 0.7483 - val_accuracy: 0.7404\n",
            "Epoch 3/15\n",
            "50000/50000 [==============================] - 11s 223us/sample - loss: 0.6867 - accuracy: 0.7648 - val_loss: 0.6865 - val_accuracy: 0.7732\n",
            "Epoch 4/15\n",
            "50000/50000 [==============================] - 11s 223us/sample - loss: 0.5789 - accuracy: 0.8007 - val_loss: 0.7467 - val_accuracy: 0.7580\n",
            "Epoch 5/15\n",
            "50000/50000 [==============================] - 11s 226us/sample - loss: 0.4969 - accuracy: 0.8290 - val_loss: 0.7096 - val_accuracy: 0.7643\n",
            "Epoch 6/15\n",
            "50000/50000 [==============================] - 11s 228us/sample - loss: 0.4237 - accuracy: 0.8545 - val_loss: 0.5873 - val_accuracy: 0.8008\n",
            "Epoch 7/15\n",
            "50000/50000 [==============================] - 11s 229us/sample - loss: 0.3563 - accuracy: 0.8773 - val_loss: 0.7193 - val_accuracy: 0.7807\n",
            "Epoch 8/15\n",
            "50000/50000 [==============================] - 11s 223us/sample - loss: 0.3034 - accuracy: 0.8941 - val_loss: 0.7886 - val_accuracy: 0.7746\n",
            "Epoch 9/15\n",
            "50000/50000 [==============================] - 11s 225us/sample - loss: 0.2609 - accuracy: 0.9085 - val_loss: 0.7441 - val_accuracy: 0.7790\n",
            "Epoch 10/15\n",
            "50000/50000 [==============================] - 11s 228us/sample - loss: 0.2272 - accuracy: 0.9224 - val_loss: 0.6120 - val_accuracy: 0.8174\n",
            "Epoch 11/15\n",
            "50000/50000 [==============================] - 11s 226us/sample - loss: 0.1953 - accuracy: 0.9339 - val_loss: 0.6647 - val_accuracy: 0.8264\n",
            "Epoch 12/15\n",
            "50000/50000 [==============================] - 12s 237us/sample - loss: 0.1739 - accuracy: 0.9401 - val_loss: 0.6800 - val_accuracy: 0.8147\n",
            "Epoch 13/15\n",
            "50000/50000 [==============================] - 11s 228us/sample - loss: 0.1569 - accuracy: 0.9469 - val_loss: 0.6694 - val_accuracy: 0.8202\n",
            "Epoch 14/15\n",
            "50000/50000 [==============================] - 11s 227us/sample - loss: 0.1425 - accuracy: 0.9507 - val_loss: 0.8486 - val_accuracy: 0.8148\n",
            "Epoch 15/15\n",
            "50000/50000 [==============================] - 11s 226us/sample - loss: 0.1335 - accuracy: 0.9551 - val_loss: 0.7665 - val_accuracy: 0.8179\n"
          ],
          "name": "stdout"
        }
      ]
    },
    {
      "cell_type": "code",
      "metadata": {
        "id": "RWdg9a0LKobN",
        "colab_type": "code",
        "colab": {
          "base_uri": "https://localhost:8080/",
          "height": 1000
        },
        "outputId": "819cf515-5e88-485b-f47b-b0a5544e4cdc"
      },
      "source": [
        "# Fit with data augmentation\n",
        "# Note: if you run this AFTER calling the previous model.fit(), it will CONTINUE training where it left off\n",
        "batch_size = 32\n",
        "data_generator = tf.keras.preprocessing.image.ImageDataGenerator(width_shift_range=0.1, height_shift_range=0.1, horizontal_flip=True)\n",
        "train_generator = data_generator.flow(x_train, y_train, batch_size)\n",
        "steps_per_epoch = x_train.shape[0] // batch_size\n",
        "history = model.fit_generator(train_generator, validation_data=(x_test, y_test), steps_per_epoch=steps_per_epoch, epochs=50)"
      ],
      "execution_count": 7,
      "outputs": [
        {
          "output_type": "stream",
          "text": [
            "WARNING:tensorflow:From <ipython-input-7-91b941a69ee0>:5: Model.fit_generator (from tensorflow.python.keras.engine.training) is deprecated and will be removed in a future version.\n",
            "Instructions for updating:\n",
            "Please use Model.fit, which supports generators.\n",
            "WARNING:tensorflow:sample_weight modes were coerced from\n",
            "  ...\n",
            "    to  \n",
            "  ['...']\n",
            "Train for 1562 steps, validate on 10000 samples\n",
            "Epoch 1/50\n",
            "1562/1562 [==============================] - 29s 18ms/step - loss: 0.6010 - accuracy: 0.8038 - val_loss: 0.6153 - val_accuracy: 0.7974\n",
            "Epoch 2/50\n",
            "1562/1562 [==============================] - 28s 18ms/step - loss: 0.5066 - accuracy: 0.8303 - val_loss: 0.5600 - val_accuracy: 0.8144\n",
            "Epoch 3/50\n",
            "1562/1562 [==============================] - 28s 18ms/step - loss: 0.4612 - accuracy: 0.8431 - val_loss: 0.5157 - val_accuracy: 0.8326\n",
            "Epoch 4/50\n",
            "1562/1562 [==============================] - 28s 18ms/step - loss: 0.4349 - accuracy: 0.8516 - val_loss: 0.5112 - val_accuracy: 0.8304\n",
            "Epoch 5/50\n",
            "1562/1562 [==============================] - 29s 18ms/step - loss: 0.4129 - accuracy: 0.8599 - val_loss: 0.4966 - val_accuracy: 0.8355\n",
            "Epoch 6/50\n",
            "1562/1562 [==============================] - 28s 18ms/step - loss: 0.3904 - accuracy: 0.8667 - val_loss: 0.4873 - val_accuracy: 0.8443\n",
            "Epoch 7/50\n",
            "1562/1562 [==============================] - 28s 18ms/step - loss: 0.3800 - accuracy: 0.8695 - val_loss: 0.4595 - val_accuracy: 0.8496\n",
            "Epoch 8/50\n",
            "1562/1562 [==============================] - 29s 18ms/step - loss: 0.3590 - accuracy: 0.8771 - val_loss: 0.4612 - val_accuracy: 0.8506\n",
            "Epoch 9/50\n",
            "1562/1562 [==============================] - 28s 18ms/step - loss: 0.3457 - accuracy: 0.8822 - val_loss: 0.4455 - val_accuracy: 0.8575\n",
            "Epoch 10/50\n",
            "1562/1562 [==============================] - 29s 18ms/step - loss: 0.3330 - accuracy: 0.8864 - val_loss: 0.4495 - val_accuracy: 0.8576\n",
            "Epoch 11/50\n",
            "1562/1562 [==============================] - 29s 18ms/step - loss: 0.3248 - accuracy: 0.8891 - val_loss: 0.4167 - val_accuracy: 0.8662\n",
            "Epoch 12/50\n",
            "1562/1562 [==============================] - 28s 18ms/step - loss: 0.3103 - accuracy: 0.8936 - val_loss: 0.4297 - val_accuracy: 0.8621\n",
            "Epoch 13/50\n",
            "1562/1562 [==============================] - 28s 18ms/step - loss: 0.3043 - accuracy: 0.8950 - val_loss: 0.4847 - val_accuracy: 0.8464\n",
            "Epoch 14/50\n",
            "1562/1562 [==============================] - 28s 18ms/step - loss: 0.2891 - accuracy: 0.9009 - val_loss: 0.4477 - val_accuracy: 0.8560\n",
            "Epoch 15/50\n",
            "1562/1562 [==============================] - 28s 18ms/step - loss: 0.2887 - accuracy: 0.9027 - val_loss: 0.4569 - val_accuracy: 0.8546\n",
            "Epoch 16/50\n",
            "1562/1562 [==============================] - 28s 18ms/step - loss: 0.2766 - accuracy: 0.9038 - val_loss: 0.4578 - val_accuracy: 0.8564\n",
            "Epoch 17/50\n",
            "1562/1562 [==============================] - 28s 18ms/step - loss: 0.2687 - accuracy: 0.9089 - val_loss: 0.3888 - val_accuracy: 0.8730\n",
            "Epoch 18/50\n",
            "1562/1562 [==============================] - 28s 18ms/step - loss: 0.2628 - accuracy: 0.9099 - val_loss: 0.4425 - val_accuracy: 0.8614\n",
            "Epoch 19/50\n",
            "1562/1562 [==============================] - 28s 18ms/step - loss: 0.2580 - accuracy: 0.9111 - val_loss: 0.4350 - val_accuracy: 0.8661\n",
            "Epoch 20/50\n",
            "1562/1562 [==============================] - 28s 18ms/step - loss: 0.2475 - accuracy: 0.9137 - val_loss: 0.4103 - val_accuracy: 0.8729\n",
            "Epoch 21/50\n",
            "1562/1562 [==============================] - 29s 18ms/step - loss: 0.2414 - accuracy: 0.9172 - val_loss: 0.4255 - val_accuracy: 0.8703\n",
            "Epoch 22/50\n",
            "1562/1562 [==============================] - 29s 18ms/step - loss: 0.2400 - accuracy: 0.9172 - val_loss: 0.4444 - val_accuracy: 0.8646\n",
            "Epoch 23/50\n",
            "1562/1562 [==============================] - 28s 18ms/step - loss: 0.2330 - accuracy: 0.9202 - val_loss: 0.4246 - val_accuracy: 0.8692\n",
            "Epoch 24/50\n",
            "1562/1562 [==============================] - 28s 18ms/step - loss: 0.2262 - accuracy: 0.9226 - val_loss: 0.4533 - val_accuracy: 0.8729\n",
            "Epoch 25/50\n",
            "1562/1562 [==============================] - 28s 18ms/step - loss: 0.2228 - accuracy: 0.9241 - val_loss: 0.4815 - val_accuracy: 0.8550\n",
            "Epoch 26/50\n",
            "1562/1562 [==============================] - 29s 18ms/step - loss: 0.2193 - accuracy: 0.9247 - val_loss: 0.4263 - val_accuracy: 0.8681\n",
            "Epoch 27/50\n",
            "1562/1562 [==============================] - 28s 18ms/step - loss: 0.2154 - accuracy: 0.9260 - val_loss: 0.4206 - val_accuracy: 0.8730\n",
            "Epoch 28/50\n",
            "1562/1562 [==============================] - 28s 18ms/step - loss: 0.2097 - accuracy: 0.9278 - val_loss: 0.4564 - val_accuracy: 0.8585\n",
            "Epoch 29/50\n",
            "1562/1562 [==============================] - 28s 18ms/step - loss: 0.2045 - accuracy: 0.9289 - val_loss: 0.4043 - val_accuracy: 0.8799\n",
            "Epoch 30/50\n",
            "1562/1562 [==============================] - 28s 18ms/step - loss: 0.2039 - accuracy: 0.9286 - val_loss: 0.4136 - val_accuracy: 0.8713\n",
            "Epoch 31/50\n",
            "1562/1562 [==============================] - 28s 18ms/step - loss: 0.1974 - accuracy: 0.9317 - val_loss: 0.4439 - val_accuracy: 0.8649\n",
            "Epoch 32/50\n",
            "1562/1562 [==============================] - 29s 18ms/step - loss: 0.1962 - accuracy: 0.9334 - val_loss: 0.3821 - val_accuracy: 0.8791\n",
            "Epoch 33/50\n",
            "1562/1562 [==============================] - 28s 18ms/step - loss: 0.1912 - accuracy: 0.9345 - val_loss: 0.4451 - val_accuracy: 0.8596\n",
            "Epoch 34/50\n",
            "1562/1562 [==============================] - 28s 18ms/step - loss: 0.1918 - accuracy: 0.9346 - val_loss: 0.4443 - val_accuracy: 0.8700\n",
            "Epoch 35/50\n",
            "1562/1562 [==============================] - 28s 18ms/step - loss: 0.1867 - accuracy: 0.9365 - val_loss: 0.4522 - val_accuracy: 0.8717\n",
            "Epoch 36/50\n",
            "1562/1562 [==============================] - 28s 18ms/step - loss: 0.1870 - accuracy: 0.9354 - val_loss: 0.4123 - val_accuracy: 0.8758\n",
            "Epoch 37/50\n",
            "1562/1562 [==============================] - 28s 18ms/step - loss: 0.1759 - accuracy: 0.9394 - val_loss: 0.4475 - val_accuracy: 0.8779\n",
            "Epoch 38/50\n",
            "1562/1562 [==============================] - 28s 18ms/step - loss: 0.1822 - accuracy: 0.9376 - val_loss: 0.4636 - val_accuracy: 0.8695\n",
            "Epoch 39/50\n",
            "1562/1562 [==============================] - 28s 18ms/step - loss: 0.1736 - accuracy: 0.9406 - val_loss: 0.4438 - val_accuracy: 0.8780\n",
            "Epoch 40/50\n",
            "1562/1562 [==============================] - 28s 18ms/step - loss: 0.1711 - accuracy: 0.9414 - val_loss: 0.4346 - val_accuracy: 0.8708\n",
            "Epoch 41/50\n",
            "1562/1562 [==============================] - 28s 18ms/step - loss: 0.1693 - accuracy: 0.9419 - val_loss: 0.4540 - val_accuracy: 0.8757\n",
            "Epoch 42/50\n",
            "1562/1562 [==============================] - 28s 18ms/step - loss: 0.1720 - accuracy: 0.9415 - val_loss: 0.4157 - val_accuracy: 0.8774\n",
            "Epoch 43/50\n",
            "1562/1562 [==============================] - 29s 18ms/step - loss: 0.1685 - accuracy: 0.9421 - val_loss: 0.4479 - val_accuracy: 0.8789\n",
            "Epoch 44/50\n",
            "1562/1562 [==============================] - 28s 18ms/step - loss: 0.1665 - accuracy: 0.9442 - val_loss: 0.4214 - val_accuracy: 0.8862\n",
            "Epoch 45/50\n",
            "1562/1562 [==============================] - 28s 18ms/step - loss: 0.1657 - accuracy: 0.9433 - val_loss: 0.4317 - val_accuracy: 0.8785\n",
            "Epoch 46/50\n",
            "1562/1562 [==============================] - 28s 18ms/step - loss: 0.1601 - accuracy: 0.9456 - val_loss: 0.4622 - val_accuracy: 0.8700\n",
            "Epoch 47/50\n",
            "1562/1562 [==============================] - 28s 18ms/step - loss: 0.1600 - accuracy: 0.9451 - val_loss: 0.4733 - val_accuracy: 0.8683\n",
            "Epoch 48/50\n",
            "1562/1562 [==============================] - 28s 18ms/step - loss: 0.1588 - accuracy: 0.9454 - val_loss: 0.5184 - val_accuracy: 0.8706\n",
            "Epoch 49/50\n",
            "1562/1562 [==============================] - 28s 18ms/step - loss: 0.1593 - accuracy: 0.9468 - val_loss: 0.4383 - val_accuracy: 0.8769\n",
            "Epoch 50/50\n",
            "1562/1562 [==============================] - 28s 18ms/step - loss: 0.1516 - accuracy: 0.9499 - val_loss: 0.4615 - val_accuracy: 0.8773\n"
          ],
          "name": "stdout"
        }
      ]
    },
    {
      "cell_type": "code",
      "metadata": {
        "id": "rp0bXcjcqx_L",
        "colab_type": "code",
        "outputId": "68c347a4-3e67-4b78-bd27-897f3b5b694e",
        "colab": {
          "base_uri": "https://localhost:8080/",
          "height": 282
        }
      },
      "source": [
        "# Plot loss per iteration\n",
        "import matplotlib.pyplot as plt\n",
        "plt.plot(history.history['loss'], label='loss')\n",
        "plt.plot(history.history['val_loss'], label='val_loss')\n",
        "plt.legend()"
      ],
      "execution_count": 8,
      "outputs": [
        {
          "output_type": "execute_result",
          "data": {
            "text/plain": [
              "<matplotlib.legend.Legend at 0x7fceb3f605c0>"
            ]
          },
          "metadata": {
            "tags": []
          },
          "execution_count": 8
        },
        {
          "output_type": "display_data",
          "data": {
            "image/png": "[encoded data removed]",
            "text/plain": [
              "<Figure size 432x288 with 1 Axes>"
            ]
          },
          "metadata": {
            "tags": []
          }
        }
      ]
    },
    {
      "cell_type": "code",
      "metadata": {
        "id": "kl4lvCHrq4GI",
        "colab_type": "code",
        "outputId": "0213176c-1e61-448e-d298-571ec727f558",
        "colab": {
          "base_uri": "https://localhost:8080/",
          "height": 282
        }
      },
      "source": [
        "# Plot accuracy per iteration\n",
        "plt.plot(history.history['accuracy'], label='acc')\n",
        "plt.plot(history.history['val_accuracy'], label='val_acc')\n",
        "plt.legend()"
      ],
      "execution_count": 9,
      "outputs": [
        {
          "output_type": "execute_result",
          "data": {
            "text/plain": [
              "<matplotlib.legend.Legend at 0x7fceb3ab0828>"
            ]
          },
          "metadata": {
            "tags": []
          },
          "execution_count": 9
        },
        {
          "output_type": "display_data",
          "data": {
            "image/png": "[encoded data removed]",
            "text/plain": [
              "<Figure size 432x288 with 1 Axes>"
            ]
          },
          "metadata": {
            "tags": []
          }
        }
      ]
    },
    {
      "cell_type": "code",
      "metadata": {
        "id": "iSA4Ipj_q91R",
        "colab_type": "code",
        "outputId": "3535dc44-4550-4ad0-815a-e1d7e49d67c7",
        "colab": {
          "base_uri": "https://localhost:8080/",
          "height": 498
        }
      },
      "source": [
        "# Plot confusion matrix\n",
        "from sklearn.metrics import confusion_matrix\n",
        "import itertools\n",
        "\n",
        "def plot_confusion_matrix(cm, classes,\n",
        "                          normalize=False,\n",
        "                          title='Confusion matrix',\n",
        "                          cmap=plt.cm.Blues):\n",
        "  \"\"\"\n",
        "  This function prints and plots the confusion matrix.\n",
        "  Normalization can be applied by setting `normalize=True`.\n",
        "  \"\"\"\n",
        "  if normalize:\n",
        "      cm = cm.astype('float') / cm.sum(axis=1)[:, np.newaxis]\n",
        "      print(\"Normalized confusion matrix\")\n",
        "  else:\n",
        "      print('Confusion matrix, without normalization')\n",
        "\n",
        "  print(cm)\n",
        "\n",
        "  plt.imshow(cm, interpolation='nearest', cmap=cmap)\n",
        "  plt.title(title)\n",
        "  plt.colorbar()\n",
        "  tick_marks = np.arange(len(classes))\n",
        "  plt.xticks(tick_marks, classes, rotation=45)\n",
        "  plt.yticks(tick_marks, classes)\n",
        "\n",
        "  fmt = '.2f' if normalize else 'd'\n",
        "  thresh = cm.max() / 2.\n",
        "  for i, j in itertools.product(range(cm.shape[0]), range(cm.shape[1])):\n",
        "      plt.text(j, i, format(cm[i, j], fmt),\n",
        "               horizontalalignment=\"center\",\n",
        "               color=\"white\" if cm[i, j] > thresh else \"black\")\n",
        "\n",
        "  plt.tight_layout()\n",
        "  plt.ylabel('True label')\n",
        "  plt.xlabel('Predicted label')\n",
        "  plt.show()\n",
        "\n",
        "\n",
        "p_test = model.predict(x_test).argmax(axis=1)\n",
        "cm = confusion_matrix(y_test, p_test)\n",
        "plot_confusion_matrix(cm, list(range(10)))"
      ],
      "execution_count": 10,
      "outputs": [
        {
          "output_type": "stream",
          "text": [
            "Confusion matrix, without normalization\n",
            "[[924   5  18  12   4   0   2   1  25   9]\n",
            " [  4 936   0   4   0   0   2   1  14  39]\n",
            " [ 42   0 815  41  27  24  35   8   3   5]\n",
            " [ 11   1  22 836  24  46  44   8   2   6]\n",
            " [ 14   0  27  41 863  14  29  10   2   0]\n",
            " [  8   2  18 179  27 731  18  11   5   1]\n",
            " [  5   2  17  36   8   1 927   1   1   2]\n",
            " [ 16   0   6  40  31  16   8 878   2   3]\n",
            " [ 27   6   7   9   1   0   0   0 939  11]\n",
            " [ 12  36   3   8   2   0   2   0  13 924]]\n"
          ],
          "name": "stdout"
        },
        {
          "output_type": "display_data",
          "data": {
            "image/png": "[encoded data removed]",
            "text/plain": [
              "<Figure size 432x288 with 2 Axes>"
            ]
          },
          "metadata": {
            "tags": []
          }
        }
      ]
    },
    {
      "cell_type": "code",
      "metadata": {
        "id": "XNNrm7bAq_Wp",
        "colab_type": "code",
        "colab": {}
      },
      "source": [
        "# label mapping\n",
        "labels = '''airplane\n",
        "automobile\n",
        "bird\n",
        "cat\n",
        "deer\n",
        "dog\n",
        "frog\n",
        "horse\n",
        "ship\n",
        "truck'''.split()"
      ],
      "execution_count": 0,
      "outputs": []
    },
    {
      "cell_type": "code",
      "metadata": {
        "id": "N7znA5X9rCcR",
        "colab_type": "code",
        "outputId": "9662ba80-a2f4-4465-d907-0519131ff0f2",
        "colab": {
          "base_uri": "https://localhost:8080/",
          "height": 281
        }
      },
      "source": [
        "# Show some misclassified examples\n",
        "misclassified_idx = np.where(p_test != y_test)[0]\n",
        "i = np.random.choice(misclassified_idx)\n",
        "plt.imshow(x_test[i], cmap='gray')\n",
        "plt.title(\"True label: %s Predicted: %s\" % (labels[y_test[i]], labels[p_test[i]]));"
      ],
      "execution_count": 12,
      "outputs": [
        {
          "output_type": "display_data",
          "data": {
            "image/png": "[encoded data removed]",
            "text/plain": [
              "<Figure size 432x288 with 1 Axes>"
            ]
          },
          "metadata": {
            "tags": []
          }
        }
      ]
    }
  ]
}